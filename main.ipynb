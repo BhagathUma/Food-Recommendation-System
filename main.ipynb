{
 "cells": [
  {
   "cell_type": "code",
   "execution_count": 19,
   "metadata": {},
   "outputs": [],
   "source": [
    "import tensorflow as tf\n",
    "from tensorflow.keras.models import Model\n",
    "from tensorflow.keras.layers import Input, Embedding, Flatten, Dense, Concatenate, Dropout\n",
    "from sklearn.model_selection import train_test_split\n",
    "import numpy as np\n",
    "import pandas as pd\n",
    "import tkinter as tk\n",
    "from tkinter import ttk"
   ]
  },
  {
   "cell_type": "code",
   "execution_count": 20,
   "metadata": {},
   "outputs": [],
   "source": [
    "food_data = pd.read_csv(\"food-dataset-extended-2.csv\", encoding=\"utf-8\")"
   ]
  },
  {
   "cell_type": "code",
   "execution_count": 21,
   "metadata": {},
   "outputs": [
    {
     "name": "stdout",
     "output_type": "stream",
     "text": [
      "Epoch 1/10\n",
      "\u001b[1m17/17\u001b[0m \u001b[32m━━━━━━━━━━━━━━━━━━━━\u001b[0m\u001b[37m\u001b[0m \u001b[1m2s\u001b[0m 16ms/step - loss: 0.0261 - mae: 0.1319 - val_loss: 0.0222 - val_mae: 0.1214\n",
      "Epoch 2/10\n",
      "\u001b[1m17/17\u001b[0m \u001b[32m━━━━━━━━━━━━━━━━━━━━\u001b[0m\u001b[37m\u001b[0m \u001b[1m0s\u001b[0m 4ms/step - loss: 0.0217 - mae: 0.1197 - val_loss: 0.0219 - val_mae: 0.1196\n",
      "Epoch 3/10\n",
      "\u001b[1m17/17\u001b[0m \u001b[32m━━━━━━━━━━━━━━━━━━━━\u001b[0m\u001b[37m\u001b[0m \u001b[1m0s\u001b[0m 4ms/step - loss: 0.0214 - mae: 0.1151 - val_loss: 0.0221 - val_mae: 0.1203\n",
      "Epoch 4/10\n",
      "\u001b[1m17/17\u001b[0m \u001b[32m━━━━━━━━━━━━━━━━━━━━\u001b[0m\u001b[37m\u001b[0m \u001b[1m0s\u001b[0m 4ms/step - loss: 0.0170 - mae: 0.1018 - val_loss: 0.0228 - val_mae: 0.1218\n",
      "Epoch 5/10\n",
      "\u001b[1m17/17\u001b[0m \u001b[32m━━━━━━━━━━━━━━━━━━━━\u001b[0m\u001b[37m\u001b[0m \u001b[1m0s\u001b[0m 4ms/step - loss: 0.0177 - mae: 0.0989 - val_loss: 0.0241 - val_mae: 0.1249\n",
      "Epoch 6/10\n",
      "\u001b[1m17/17\u001b[0m \u001b[32m━━━━━━━━━━━━━━━━━━━━\u001b[0m\u001b[37m\u001b[0m \u001b[1m0s\u001b[0m 4ms/step - loss: 0.0125 - mae: 0.0802 - val_loss: 0.0260 - val_mae: 0.1292\n",
      "Epoch 7/10\n",
      "\u001b[1m17/17\u001b[0m \u001b[32m━━━━━━━━━━━━━━━━━━━━\u001b[0m\u001b[37m\u001b[0m \u001b[1m0s\u001b[0m 4ms/step - loss: 0.0112 - mae: 0.0724 - val_loss: 0.0273 - val_mae: 0.1327\n",
      "Epoch 8/10\n",
      "\u001b[1m17/17\u001b[0m \u001b[32m━━━━━━━━━━━━━━━━━━━━\u001b[0m\u001b[37m\u001b[0m \u001b[1m0s\u001b[0m 4ms/step - loss: 0.0087 - mae: 0.0620 - val_loss: 0.0281 - val_mae: 0.1365\n",
      "Epoch 9/10\n",
      "\u001b[1m17/17\u001b[0m \u001b[32m━━━━━━━━━━━━━━━━━━━━\u001b[0m\u001b[37m\u001b[0m \u001b[1m0s\u001b[0m 4ms/step - loss: 0.0097 - mae: 0.0622 - val_loss: 0.0297 - val_mae: 0.1389\n",
      "Epoch 10/10\n",
      "\u001b[1m17/17\u001b[0m \u001b[32m━━━━━━━━━━━━━━━━━━━━\u001b[0m\u001b[37m\u001b[0m \u001b[1m0s\u001b[0m 4ms/step - loss: 0.0056 - mae: 0.0515 - val_loss: 0.0297 - val_mae: 0.1419\n"
     ]
    },
    {
     "data": {
      "text/plain": [
       "<keras.src.callbacks.history.History at 0x20539a88050>"
      ]
     },
     "execution_count": 21,
     "metadata": {},
     "output_type": "execute_result"
    }
   ],
   "source": [
    "rating_columns = [\"spice level\", \"sweet level\", \"sour level\", \"salt level\", \"bitter level\"]\n",
    "food_data[rating_columns] = food_data[rating_columns] / 10.0\n",
    "\n",
    "ratings = food_data[rating_columns].mean(axis=1).values\n",
    "dishes = np.arange(len(food_data)) \n",
    "\n",
    "X_train, X_test, y_train, y_test = train_test_split(dishes, ratings, test_size=0.2, random_state=42)\n",
    "\n",
    "dish_input = Input(shape=(1,), name=\"dish_input\")\n",
    "dish_embedding = Embedding(input_dim=len(food_data), output_dim=16, name=\"dish_embedding\")(dish_input)\n",
    "dish_embedding = Flatten()(dish_embedding)\n",
    "\n",
    "x = Dense(64, activation='relu')(dish_embedding)\n",
    "x = Dropout(0.2)(x)\n",
    "x = Dense(32, activation='relu')(x)\n",
    "x = Dropout(0.2)(x)\n",
    "x = Dense(16, activation='relu')(x)\n",
    "\n",
    "output = Dense(1, activation='sigmoid', name=\"output_layer\")(x)\n",
    "\n",
    "ncf_model = Model(inputs=dish_input, outputs=output)\n",
    "ncf_model.compile(optimizer='adam', loss='mse', metrics=['mae'])\n",
    "ncf_model.fit(X_train, y_train, epochs=10, batch_size=16, validation_data=(X_test, y_test))"
   ]
  },
  {
   "cell_type": "code",
   "execution_count": 22,
   "metadata": {},
   "outputs": [],
   "source": [
    "def recommend_dishes():\n",
    "    cuisine = cuisine_var.get().strip().lower()\n",
    "    taste = taste_var.get().strip().lower()\n",
    "    temperature = temperature_var.get().strip().lower()\n",
    "    spice_level = spice_var.get()\n",
    "    sweet_level = sweet_var.get()\n",
    "    salt_level = salt_var.get()\n",
    "    sour_level = sour_var.get()\n",
    "    bitter_level = bitter_var.get()\n",
    "    \n",
    "    if not cuisine and not taste and not temperature and spice_level == 0 and sweet_level == 0 and salt_level == 0 and sour_level == 0 and bitter_level == 0:\n",
    "        result_label.config(text=\"Please provide at least one preference for better recommendations!\")\n",
    "        return\n",
    "\n",
    "    user_prefs = {\n",
    "        \"cuisine\": cuisine,\n",
    "        \"taste\": taste,\n",
    "        \"temperature\": temperature,\n",
    "        \"ratings\": np.array([spice_level, sweet_level, salt_level, sour_level, bitter_level]).mean() / 10.0\n",
    "    }\n",
    "    \n",
    "    filtered_data = food_data[(food_data['Cuisine'].str.lower() == user_prefs['cuisine']) &\n",
    "                              (food_data['taste'].str.lower() == user_prefs['taste']) &\n",
    "                              (food_data['temperature'].str.lower() == user_prefs['temperature'])]\n",
    "    \n",
    "    if filtered_data.empty:\n",
    "        result_label.config(text=\"No exact matches found. Showing top-rated dishes instead.\")\n",
    "        filtered_data = food_data\n",
    "\n",
    "    dish_indices = np.arange(len(filtered_data))\n",
    "    predicted_scores = ncf_model.predict(dish_indices)\n",
    "    top_n_indices = np.argsort(predicted_scores.flatten())[::-1][:5]\n",
    "    \n",
    "    recommended_dishes = \"\\n\".join(filtered_data.iloc[top_n_indices]['Dish name'].tolist())\n",
    "    result_label.config(text=f\"Top 5 Recommended Dishes:\\n{recommended_dishes}\")\n"
   ]
  },
  {
   "cell_type": "code",
   "execution_count": 23,
   "metadata": {},
   "outputs": [
    {
     "name": "stdout",
     "output_type": "stream",
     "text": [
      "\u001b[1m11/11\u001b[0m \u001b[32m━━━━━━━━━━━━━━━━━━━━\u001b[0m\u001b[37m\u001b[0m \u001b[1m0s\u001b[0m 6ms/step\n",
      "\u001b[1m1/1\u001b[0m \u001b[32m━━━━━━━━━━━━━━━━━━━━\u001b[0m\u001b[37m\u001b[0m \u001b[1m0s\u001b[0m 20ms/step\n",
      "\u001b[1m1/1\u001b[0m \u001b[32m━━━━━━━━━━━━━━━━━━━━\u001b[0m\u001b[37m\u001b[0m \u001b[1m0s\u001b[0m 24ms/step\n",
      "\u001b[1m1/1\u001b[0m \u001b[32m━━━━━━━━━━━━━━━━━━━━\u001b[0m\u001b[37m\u001b[0m \u001b[1m0s\u001b[0m 20ms/step\n",
      "\u001b[1m1/1\u001b[0m \u001b[32m━━━━━━━━━━━━━━━━━━━━\u001b[0m\u001b[37m\u001b[0m \u001b[1m0s\u001b[0m 22ms/step\n",
      "\u001b[1m1/1\u001b[0m \u001b[32m━━━━━━━━━━━━━━━━━━━━\u001b[0m\u001b[37m\u001b[0m \u001b[1m0s\u001b[0m 22ms/step\n"
     ]
    }
   ],
   "source": [
    "\n",
    "\n",
    "\n",
    "root = tk.Tk()\n",
    "root.title(\"Food Recommendation System\")\n",
    "\n",
    "cuisine_var = tk.StringVar()\n",
    "taste_var = tk.StringVar()\n",
    "temperature_var = tk.StringVar()\n",
    "spice_var = tk.IntVar()\n",
    "sweet_var = tk.IntVar()\n",
    "salt_var = tk.IntVar()\n",
    "sour_var = tk.IntVar()\n",
    "bitter_var = tk.IntVar()\n",
    "\n",
    "cuisines = [\"Indian\", \"Chinese\", \"American\",\"Korean\",\"Italian\"]\n",
    "tastes = [\"Sweet\", \"Sour\", \"Bitter\",\"Spicy\",\"Salty\"]\n",
    "temperatures = [\"Hot\", \"Cold\"]\n",
    "\n",
    "tk.Label(root, text=\"Cuisine:\").pack()\n",
    "ttk.Combobox(root, textvariable=cuisine_var, values=cuisines).pack()\n",
    "\n",
    "tk.Label(root, text=\"Taste:\").pack()\n",
    "ttk.Combobox(root, textvariable=taste_var, values=tastes).pack()\n",
    "\n",
    "tk.Label(root, text=\"Temperature:\").pack()\n",
    "ttk.Combobox(root, textvariable=temperature_var, values=temperatures).pack()\n",
    "\n",
    "tk.Label(root, text=\"Spice Level (0-10):\").pack()\n",
    "tk.Scale(root, from_=0, to=10, orient=tk.HORIZONTAL, variable=spice_var).pack()\n",
    "\n",
    "tk.Label(root, text=\"Sweet Level (0-10):\").pack()\n",
    "tk.Scale(root, from_=0, to=10, orient=tk.HORIZONTAL, variable=sweet_var).pack()\n",
    "\n",
    "tk.Label(root, text=\"Salt Level (0-10):\").pack()\n",
    "tk.Scale(root, from_=0, to=10, orient=tk.HORIZONTAL, variable=salt_var).pack()\n",
    "\n",
    "tk.Label(root, text=\"Sour Level (0-10):\").pack()\n",
    "tk.Scale(root, from_=0, to=10, orient=tk.HORIZONTAL, variable=sour_var).pack()\n",
    "\n",
    "tk.Label(root, text=\"Bitter Level (0-10):\").pack()\n",
    "tk.Scale(root, from_=0, to=10, orient=tk.HORIZONTAL, variable=bitter_var).pack()\n",
    "\n",
    "tk.Button(root, text=\"Get Recommendations\", command=recommend_dishes).pack()\n",
    "\n",
    "result_label = tk.Label(root, text=\"\")\n",
    "result_label.pack()\n",
    "root.geometry(\"500x600\") \n",
    "root.mainloop()\n"
   ]
  }
 ],
 "metadata": {
  "kernelspec": {
   "display_name": "Python 3",
   "language": "python",
   "name": "python3"
  },
  "language_info": {
   "codemirror_mode": {
    "name": "ipython",
    "version": 3
   },
   "file_extension": ".py",
   "mimetype": "text/x-python",
   "name": "python",
   "nbconvert_exporter": "python",
   "pygments_lexer": "ipython3",
   "version": "3.12.0"
  }
 },
 "nbformat": 4,
 "nbformat_minor": 2
}
