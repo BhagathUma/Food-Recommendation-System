{
  "nbformat": 4,
  "nbformat_minor": 0,
  "metadata": {
    "colab": {
      "provenance": []
    },
    "kernelspec": {
      "name": "python3",
      "display_name": "Python 3"
    },
    "language_info": {
      "name": "python"
    }
  },
  "cells": [
    {
      "cell_type": "code",
      "source": [
        "import tensorflow as tf\n",
        "from tensorflow.keras.models import Model\n",
        "from tensorflow.keras.layers import Input, Embedding, Flatten, Dense, Concatenate, Dropout\n",
        "from sklearn.model_selection import train_test_split\n",
        "import numpy as np\n",
        "import pandas as pd\n",
        "\n",
        "food_data = pd.read_csv('/content/food-dataset-extended-2.csv')\n",
        "\n",
        "rating_columns = [\"spice level\", \"sweet level\", \"sour level\", \"salt level\", \"bitter level\"]\n",
        "food_data[rating_columns] = food_data[rating_columns] / 10.0\n",
        "\n",
        "ratings = food_data[rating_columns].mean(axis=1).values\n",
        "\n",
        "dishes = np.arange(len(food_data))\n",
        "X_train, X_test, y_train, y_test = train_test_split(dishes, ratings, test_size=0.2, random_state=42)\n",
        "\n",
        "dish_input = Input(shape=(1,), name=\"dish_input\")\n",
        "\n",
        "dish_embedding = Embedding(input_dim=len(food_data), output_dim=16, name=\"dish_embedding\")(dish_input)\n",
        "dish_embedding = Flatten()(dish_embedding)\n",
        "\n",
        "x = Dense(64, activation='relu')(dish_embedding)\n",
        "x = Dropout(0.2)(x)\n",
        "x = Dense(32, activation='relu')(x)\n",
        "x = Dropout(0.2)(x)\n",
        "x = Dense(16, activation='relu')(x)\n",
        "\n",
        "output = Dense(1, activation='sigmoid', name=\"output_layer\")(x)\n",
        "\n",
        "ncf_model = Model(inputs=dish_input, outputs=output)\n",
        "ncf_model.compile(optimizer='adam', loss='mse', metrics=['mae'])\n",
        "\n",
        "ncf_model.fit(X_train, y_train, epochs=10, batch_size=16, validation_data=(X_test, y_test))\n",
        "\n",
        "ncf_model.summary()\n",
        "\n",
        "def get_user_preferences():\n",
        "    cuisine = 'Indian'\n",
        "    taste = 'Sweet'\n",
        "    temperature = \"Hot\"\n",
        "    spice_level = 1 / 10.0\n",
        "    sweet_level = 8 / 10.0\n",
        "    salt_level = 1 / 10.0\n",
        "    sour_level = 3 / 10.0\n",
        "    bitter_level = 1 / 10.0\n",
        "\n",
        "    return {\n",
        "        \"cuisine\": cuisine.lower(),\n",
        "        \"taste\": taste.lower(),\n",
        "        \"temperature\": temperature.lower(),\n",
        "        \"ratings\": np.array([spice_level, sweet_level, salt_level, sour_level, bitter_level]).mean()\n",
        "    }\n",
        "\n",
        "def recommend_dishes(n=5):\n",
        "    user_prefs = get_user_preferences()\n",
        "\n",
        "    filtered_data = food_data[(food_data['Cuisine'].str.lower() == user_prefs['cuisine']) &\n",
        "                              (food_data['taste'].str.lower() == user_prefs['taste']) &\n",
        "                              (food_data['temperature'].str.lower() == user_prefs['temperature'])]\n",
        "\n",
        "    if filtered_data.empty:\n",
        "        print(\"No exact matches found. Showing top-rated dishes instead.\")\n",
        "        filtered_data = food_data\n",
        "\n",
        "    dish_indices = np.arange(len(filtered_data))\n",
        "\n",
        "    predicted_scores = ncf_model.predict(dish_indices)\n",
        "\n",
        "    top_n_indices = np.argsort(predicted_scores.flatten())[::-1][:n]\n",
        "\n",
        "    print(\"Top\", n, \"recommended dishes:\")\n",
        "    print(filtered_data.iloc[top_n_indices])\n",
        "\n",
        "recommend_dishes(n=5)"
      ],
      "metadata": {
        "colab": {
          "base_uri": "https://localhost:8080/",
          "height": 1000
        },
        "id": "ZSl5_Ir1hJIP",
        "outputId": "c705709f-5387-4e77-afd7-c38b84f0b5ed"
      },
      "execution_count": null,
      "outputs": [
        {
          "output_type": "stream",
          "name": "stdout",
          "text": [
            "Epoch 1/10\n",
            "\u001b[1m17/17\u001b[0m \u001b[32m━━━━━━━━━━━━━━━━━━━━\u001b[0m\u001b[37m\u001b[0m \u001b[1m2s\u001b[0m 19ms/step - loss: 0.0260 - mae: 0.1357 - val_loss: 0.0221 - val_mae: 0.1214\n",
            "Epoch 2/10\n",
            "\u001b[1m17/17\u001b[0m \u001b[32m━━━━━━━━━━━━━━━━━━━━\u001b[0m\u001b[37m\u001b[0m \u001b[1m0s\u001b[0m 6ms/step - loss: 0.0226 - mae: 0.1223 - val_loss: 0.0214 - val_mae: 0.1178\n",
            "Epoch 3/10\n",
            "\u001b[1m17/17\u001b[0m \u001b[32m━━━━━━━━━━━━━━━━━━━━\u001b[0m\u001b[37m\u001b[0m \u001b[1m0s\u001b[0m 6ms/step - loss: 0.0253 - mae: 0.1288 - val_loss: 0.0215 - val_mae: 0.1174\n",
            "Epoch 4/10\n",
            "\u001b[1m17/17\u001b[0m \u001b[32m━━━━━━━━━━━━━━━━━━━━\u001b[0m\u001b[37m\u001b[0m \u001b[1m0s\u001b[0m 6ms/step - loss: 0.0205 - mae: 0.1122 - val_loss: 0.0216 - val_mae: 0.1176\n",
            "Epoch 5/10\n",
            "\u001b[1m17/17\u001b[0m \u001b[32m━━━━━━━━━━━━━━━━━━━━\u001b[0m\u001b[37m\u001b[0m \u001b[1m0s\u001b[0m 6ms/step - loss: 0.0201 - mae: 0.1081 - val_loss: 0.0217 - val_mae: 0.1185\n",
            "Epoch 6/10\n",
            "\u001b[1m17/17\u001b[0m \u001b[32m━━━━━━━━━━━━━━━━━━━━\u001b[0m\u001b[37m\u001b[0m \u001b[1m0s\u001b[0m 6ms/step - loss: 0.0140 - mae: 0.0840 - val_loss: 0.0232 - val_mae: 0.1211\n",
            "Epoch 7/10\n",
            "\u001b[1m17/17\u001b[0m \u001b[32m━━━━━━━━━━━━━━━━━━━━\u001b[0m\u001b[37m\u001b[0m \u001b[1m0s\u001b[0m 6ms/step - loss: 0.0072 - mae: 0.0595 - val_loss: 0.0251 - val_mae: 0.1285\n",
            "Epoch 8/10\n",
            "\u001b[1m17/17\u001b[0m \u001b[32m━━━━━━━━━━━━━━━━━━━━\u001b[0m\u001b[37m\u001b[0m \u001b[1m0s\u001b[0m 12ms/step - loss: 0.0059 - mae: 0.0568 - val_loss: 0.0265 - val_mae: 0.1318\n",
            "Epoch 9/10\n",
            "\u001b[1m17/17\u001b[0m \u001b[32m━━━━━━━━━━━━━━━━━━━━\u001b[0m\u001b[37m\u001b[0m \u001b[1m0s\u001b[0m 9ms/step - loss: 0.0050 - mae: 0.0530 - val_loss: 0.0264 - val_mae: 0.1307\n",
            "Epoch 10/10\n",
            "\u001b[1m17/17\u001b[0m \u001b[32m━━━━━━━━━━━━━━━━━━━━\u001b[0m\u001b[37m\u001b[0m \u001b[1m0s\u001b[0m 6ms/step - loss: 0.0040 - mae: 0.0454 - val_loss: 0.0260 - val_mae: 0.1296\n"
          ]
        },
        {
          "output_type": "display_data",
          "data": {
            "text/plain": [
              "\u001b[1mModel: \"functional\"\u001b[0m\n"
            ],
            "text/html": [
              "<pre style=\"white-space:pre;overflow-x:auto;line-height:normal;font-family:Menlo,'DejaVu Sans Mono',consolas,'Courier New',monospace\"><span style=\"font-weight: bold\">Model: \"functional\"</span>\n",
              "</pre>\n"
            ]
          },
          "metadata": {}
        },
        {
          "output_type": "display_data",
          "data": {
            "text/plain": [
              "┏━━━━━━━━━━━━━━━━━━━━━━━━━━━━━━━━━━━━━━┳━━━━━━━━━━━━━━━━━━━━━━━━━━━━━┳━━━━━━━━━━━━━━━━━┓\n",
              "┃\u001b[1m \u001b[0m\u001b[1mLayer (type)                        \u001b[0m\u001b[1m \u001b[0m┃\u001b[1m \u001b[0m\u001b[1mOutput Shape               \u001b[0m\u001b[1m \u001b[0m┃\u001b[1m \u001b[0m\u001b[1m        Param #\u001b[0m\u001b[1m \u001b[0m┃\n",
              "┡━━━━━━━━━━━━━━━━━━━━━━━━━━━━━━━━━━━━━━╇━━━━━━━━━━━━━━━━━━━━━━━━━━━━━╇━━━━━━━━━━━━━━━━━┩\n",
              "│ dish_input (\u001b[38;5;33mInputLayer\u001b[0m)              │ (\u001b[38;5;45mNone\u001b[0m, \u001b[38;5;34m1\u001b[0m)                   │               \u001b[38;5;34m0\u001b[0m │\n",
              "├──────────────────────────────────────┼─────────────────────────────┼─────────────────┤\n",
              "│ dish_embedding (\u001b[38;5;33mEmbedding\u001b[0m)           │ (\u001b[38;5;45mNone\u001b[0m, \u001b[38;5;34m1\u001b[0m, \u001b[38;5;34m16\u001b[0m)               │           \u001b[38;5;34m5,280\u001b[0m │\n",
              "├──────────────────────────────────────┼─────────────────────────────┼─────────────────┤\n",
              "│ flatten (\u001b[38;5;33mFlatten\u001b[0m)                    │ (\u001b[38;5;45mNone\u001b[0m, \u001b[38;5;34m16\u001b[0m)                  │               \u001b[38;5;34m0\u001b[0m │\n",
              "├──────────────────────────────────────┼─────────────────────────────┼─────────────────┤\n",
              "│ dense (\u001b[38;5;33mDense\u001b[0m)                        │ (\u001b[38;5;45mNone\u001b[0m, \u001b[38;5;34m64\u001b[0m)                  │           \u001b[38;5;34m1,088\u001b[0m │\n",
              "├──────────────────────────────────────┼─────────────────────────────┼─────────────────┤\n",
              "│ dropout (\u001b[38;5;33mDropout\u001b[0m)                    │ (\u001b[38;5;45mNone\u001b[0m, \u001b[38;5;34m64\u001b[0m)                  │               \u001b[38;5;34m0\u001b[0m │\n",
              "├──────────────────────────────────────┼─────────────────────────────┼─────────────────┤\n",
              "│ dense_1 (\u001b[38;5;33mDense\u001b[0m)                      │ (\u001b[38;5;45mNone\u001b[0m, \u001b[38;5;34m32\u001b[0m)                  │           \u001b[38;5;34m2,080\u001b[0m │\n",
              "├──────────────────────────────────────┼─────────────────────────────┼─────────────────┤\n",
              "│ dropout_1 (\u001b[38;5;33mDropout\u001b[0m)                  │ (\u001b[38;5;45mNone\u001b[0m, \u001b[38;5;34m32\u001b[0m)                  │               \u001b[38;5;34m0\u001b[0m │\n",
              "├──────────────────────────────────────┼─────────────────────────────┼─────────────────┤\n",
              "│ dense_2 (\u001b[38;5;33mDense\u001b[0m)                      │ (\u001b[38;5;45mNone\u001b[0m, \u001b[38;5;34m16\u001b[0m)                  │             \u001b[38;5;34m528\u001b[0m │\n",
              "├──────────────────────────────────────┼─────────────────────────────┼─────────────────┤\n",
              "│ output_layer (\u001b[38;5;33mDense\u001b[0m)                 │ (\u001b[38;5;45mNone\u001b[0m, \u001b[38;5;34m1\u001b[0m)                   │              \u001b[38;5;34m17\u001b[0m │\n",
              "└──────────────────────────────────────┴─────────────────────────────┴─────────────────┘\n"
            ],
            "text/html": [
              "<pre style=\"white-space:pre;overflow-x:auto;line-height:normal;font-family:Menlo,'DejaVu Sans Mono',consolas,'Courier New',monospace\">┏━━━━━━━━━━━━━━━━━━━━━━━━━━━━━━━━━━━━━━┳━━━━━━━━━━━━━━━━━━━━━━━━━━━━━┳━━━━━━━━━━━━━━━━━┓\n",
              "┃<span style=\"font-weight: bold\"> Layer (type)                         </span>┃<span style=\"font-weight: bold\"> Output Shape                </span>┃<span style=\"font-weight: bold\">         Param # </span>┃\n",
              "┡━━━━━━━━━━━━━━━━━━━━━━━━━━━━━━━━━━━━━━╇━━━━━━━━━━━━━━━━━━━━━━━━━━━━━╇━━━━━━━━━━━━━━━━━┩\n",
              "│ dish_input (<span style=\"color: #0087ff; text-decoration-color: #0087ff\">InputLayer</span>)              │ (<span style=\"color: #00d7ff; text-decoration-color: #00d7ff\">None</span>, <span style=\"color: #00af00; text-decoration-color: #00af00\">1</span>)                   │               <span style=\"color: #00af00; text-decoration-color: #00af00\">0</span> │\n",
              "├──────────────────────────────────────┼─────────────────────────────┼─────────────────┤\n",
              "│ dish_embedding (<span style=\"color: #0087ff; text-decoration-color: #0087ff\">Embedding</span>)           │ (<span style=\"color: #00d7ff; text-decoration-color: #00d7ff\">None</span>, <span style=\"color: #00af00; text-decoration-color: #00af00\">1</span>, <span style=\"color: #00af00; text-decoration-color: #00af00\">16</span>)               │           <span style=\"color: #00af00; text-decoration-color: #00af00\">5,280</span> │\n",
              "├──────────────────────────────────────┼─────────────────────────────┼─────────────────┤\n",
              "│ flatten (<span style=\"color: #0087ff; text-decoration-color: #0087ff\">Flatten</span>)                    │ (<span style=\"color: #00d7ff; text-decoration-color: #00d7ff\">None</span>, <span style=\"color: #00af00; text-decoration-color: #00af00\">16</span>)                  │               <span style=\"color: #00af00; text-decoration-color: #00af00\">0</span> │\n",
              "├──────────────────────────────────────┼─────────────────────────────┼─────────────────┤\n",
              "│ dense (<span style=\"color: #0087ff; text-decoration-color: #0087ff\">Dense</span>)                        │ (<span style=\"color: #00d7ff; text-decoration-color: #00d7ff\">None</span>, <span style=\"color: #00af00; text-decoration-color: #00af00\">64</span>)                  │           <span style=\"color: #00af00; text-decoration-color: #00af00\">1,088</span> │\n",
              "├──────────────────────────────────────┼─────────────────────────────┼─────────────────┤\n",
              "│ dropout (<span style=\"color: #0087ff; text-decoration-color: #0087ff\">Dropout</span>)                    │ (<span style=\"color: #00d7ff; text-decoration-color: #00d7ff\">None</span>, <span style=\"color: #00af00; text-decoration-color: #00af00\">64</span>)                  │               <span style=\"color: #00af00; text-decoration-color: #00af00\">0</span> │\n",
              "├──────────────────────────────────────┼─────────────────────────────┼─────────────────┤\n",
              "│ dense_1 (<span style=\"color: #0087ff; text-decoration-color: #0087ff\">Dense</span>)                      │ (<span style=\"color: #00d7ff; text-decoration-color: #00d7ff\">None</span>, <span style=\"color: #00af00; text-decoration-color: #00af00\">32</span>)                  │           <span style=\"color: #00af00; text-decoration-color: #00af00\">2,080</span> │\n",
              "├──────────────────────────────────────┼─────────────────────────────┼─────────────────┤\n",
              "│ dropout_1 (<span style=\"color: #0087ff; text-decoration-color: #0087ff\">Dropout</span>)                  │ (<span style=\"color: #00d7ff; text-decoration-color: #00d7ff\">None</span>, <span style=\"color: #00af00; text-decoration-color: #00af00\">32</span>)                  │               <span style=\"color: #00af00; text-decoration-color: #00af00\">0</span> │\n",
              "├──────────────────────────────────────┼─────────────────────────────┼─────────────────┤\n",
              "│ dense_2 (<span style=\"color: #0087ff; text-decoration-color: #0087ff\">Dense</span>)                      │ (<span style=\"color: #00d7ff; text-decoration-color: #00d7ff\">None</span>, <span style=\"color: #00af00; text-decoration-color: #00af00\">16</span>)                  │             <span style=\"color: #00af00; text-decoration-color: #00af00\">528</span> │\n",
              "├──────────────────────────────────────┼─────────────────────────────┼─────────────────┤\n",
              "│ output_layer (<span style=\"color: #0087ff; text-decoration-color: #0087ff\">Dense</span>)                 │ (<span style=\"color: #00d7ff; text-decoration-color: #00d7ff\">None</span>, <span style=\"color: #00af00; text-decoration-color: #00af00\">1</span>)                   │              <span style=\"color: #00af00; text-decoration-color: #00af00\">17</span> │\n",
              "└──────────────────────────────────────┴─────────────────────────────┴─────────────────┘\n",
              "</pre>\n"
            ]
          },
          "metadata": {}
        },
        {
          "output_type": "display_data",
          "data": {
            "text/plain": [
              "\u001b[1m Total params: \u001b[0m\u001b[38;5;34m26,981\u001b[0m (105.40 KB)\n"
            ],
            "text/html": [
              "<pre style=\"white-space:pre;overflow-x:auto;line-height:normal;font-family:Menlo,'DejaVu Sans Mono',consolas,'Courier New',monospace\"><span style=\"font-weight: bold\"> Total params: </span><span style=\"color: #00af00; text-decoration-color: #00af00\">26,981</span> (105.40 KB)\n",
              "</pre>\n"
            ]
          },
          "metadata": {}
        },
        {
          "output_type": "display_data",
          "data": {
            "text/plain": [
              "\u001b[1m Trainable params: \u001b[0m\u001b[38;5;34m8,993\u001b[0m (35.13 KB)\n"
            ],
            "text/html": [
              "<pre style=\"white-space:pre;overflow-x:auto;line-height:normal;font-family:Menlo,'DejaVu Sans Mono',consolas,'Courier New',monospace\"><span style=\"font-weight: bold\"> Trainable params: </span><span style=\"color: #00af00; text-decoration-color: #00af00\">8,993</span> (35.13 KB)\n",
              "</pre>\n"
            ]
          },
          "metadata": {}
        },
        {
          "output_type": "display_data",
          "data": {
            "text/plain": [
              "\u001b[1m Non-trainable params: \u001b[0m\u001b[38;5;34m0\u001b[0m (0.00 B)\n"
            ],
            "text/html": [
              "<pre style=\"white-space:pre;overflow-x:auto;line-height:normal;font-family:Menlo,'DejaVu Sans Mono',consolas,'Courier New',monospace\"><span style=\"font-weight: bold\"> Non-trainable params: </span><span style=\"color: #00af00; text-decoration-color: #00af00\">0</span> (0.00 B)\n",
              "</pre>\n"
            ]
          },
          "metadata": {}
        },
        {
          "output_type": "display_data",
          "data": {
            "text/plain": [
              "\u001b[1m Optimizer params: \u001b[0m\u001b[38;5;34m17,988\u001b[0m (70.27 KB)\n"
            ],
            "text/html": [
              "<pre style=\"white-space:pre;overflow-x:auto;line-height:normal;font-family:Menlo,'DejaVu Sans Mono',consolas,'Courier New',monospace\"><span style=\"font-weight: bold\"> Optimizer params: </span><span style=\"color: #00af00; text-decoration-color: #00af00\">17,988</span> (70.27 KB)\n",
              "</pre>\n"
            ]
          },
          "metadata": {}
        },
        {
          "output_type": "stream",
          "name": "stdout",
          "text": [
            "\u001b[1m1/1\u001b[0m \u001b[32m━━━━━━━━━━━━━━━━━━━━\u001b[0m\u001b[37m\u001b[0m \u001b[1m0s\u001b[0m 112ms/step\n",
            "Top 5 recommended dishes:\n",
            "    Cuisine     Dish name          Dish  taste temperature  spice level  \\\n",
            "283  Indian       biryani       Biryani  Sweet         Hot          0.2   \n",
            "120  Indian       payasam       Payasam  Sweet         Hot          0.2   \n",
            "20   Indian  shahi paneer  Shahi Paneer  Sweet         Hot          0.2   \n",
            "58   Indian        jalebi        Jalebi  Sweet         Hot          0.1   \n",
            "121  Indian        kesari        Kesari  Sweet         Hot          0.1   \n",
            "\n",
            "     sweet level  salt level  sour level  bitter level  \n",
            "283          0.3         NaN         0.2           0.1  \n",
            "120          0.7         0.2         NaN           NaN  \n",
            "20           0.4         NaN         NaN           NaN  \n",
            "58           0.9         NaN         NaN           NaN  \n",
            "121          0.7         0.2         NaN           NaN  \n"
          ]
        }
      ]
    },
    {
      "cell_type": "code",
      "source": [
        "import tensorflow as tf\n",
        "from tensorflow.keras.models import Model\n",
        "from tensorflow.keras.layers import Input, Embedding, Flatten, Dense, Concatenate, Dropout\n",
        "from sklearn.model_selection import train_test_split\n",
        "import numpy as np\n",
        "\n",
        "rating_columns = [\"spice level\", \"sweet level\", \"sour level\", \"salt level\", \"bitter level\"]\n",
        "food_data[rating_columns] = food_data[rating_columns] / 10.0\n",
        "\n",
        "ratings = food_data[rating_columns].mean(axis=1).values\n",
        "\n",
        "dishes = np.arange(len(food_data))\n",
        "\n",
        "X_train, X_test, y_train, y_test = train_test_split(dishes, ratings, test_size=0.2, random_state=42)\n",
        "\n",
        "dish_input = Input(shape=(1,), name=\"dish_input\")\n",
        "\n",
        "dish_embedding = Embedding(input_dim=len(food_data), output_dim=16, name=\"dish_embedding\")(dish_input)\n",
        "dish_embedding = Flatten()(dish_embedding)\n",
        "\n",
        "x = Dense(64, activation='relu')(dish_embedding)\n",
        "x = Dropout(0.2)(x)\n",
        "x = Dense(32, activation='relu')(x)\n",
        "x = Dropout(0.2)(x)\n",
        "x = Dense(16, activation='relu')(x)\n",
        "\n",
        "output = Dense(1, activation='sigmoid', name=\"output_layer\")(x)\n",
        "\n",
        "ncf_model = Model(inputs=dish_input, outputs=output)\n",
        "ncf_model.compile(optimizer='adam', loss='mse', metrics=['mae'])\n",
        "\n",
        "ncf_model.fit(X_train, y_train, epochs=10, batch_size=16, validation_data=(X_test, y_test))\n",
        "\n",
        "def get_user_preferences():\n",
        "    '''cuisine = 'Chinese'\n",
        "    taste = 'Sweet'\n",
        "    temperature = \"Cold\"\n",
        "    spice_level = 1 / 10.0\n",
        "    sweet_level = 8 / 10.0\n",
        "    salt_level = 1 / 10.0\n",
        "    sour_level = 3 / 10.0\n",
        "    bitter_level = 1 / 10.0'''\n",
        "\n",
        "    cuisine = input(\"Cuisine preference (e.g., Indian, Chinese, American): \")\n",
        "    taste = input(\"Taste preference (e.g., Sweet, Sour, Bitter): \")\n",
        "    temperature = input(\"Temperature (e.g., Hot, Cold): \")\n",
        "    spice_level = float(input(\"Spice level (1-10): \")) / 10.0\n",
        "    sweet_level = float(input(\"Sweet level (1-10): \")) / 10.0\n",
        "    salt_level = float(input(\"Salt level (1-10): \")) / 10.0\n",
        "    sour_level = float(input(\"Sour level (1-10): \")) / 10.0\n",
        "    bitter_level = float(input(\"Bitter level (1-10): \")) / 10.0\n",
        "\n",
        "    return {\n",
        "        \"cuisine\": cuisine.lower(),\n",
        "        \"taste\": taste.lower(),\n",
        "        \"temperature\": temperature.lower(),\n",
        "        \"ratings\": np.array([spice_level, sweet_level, salt_level, sour_level, bitter_level]).mean()\n",
        "    }\n",
        "\n",
        "def recommend_dishes(n=5):\n",
        "    user_prefs = get_user_preferences()\n",
        "\n",
        "    filtered_data = food_data[(food_data['Cuisine'].str.lower() == user_prefs['cuisine']) &\n",
        "                              (food_data['taste'].str.lower() == user_prefs['taste']) &\n",
        "                              (food_data['temperature'].str.lower() == user_prefs['temperature'])]\n",
        "\n",
        "    if filtered_data.empty:\n",
        "        print(\"No exact matches found. Showing top-rated dishes instead.\")\n",
        "        filtered_data = food_data\n",
        "\n",
        "    dish_indices = np.arange(len(filtered_data))\n",
        "\n",
        "    predicted_scores = ncf_model.predict(dish_indices)\n",
        "\n",
        "    top_n_indices = np.argsort(predicted_scores.flatten())[::-1][:n]\n",
        "\n",
        "    print(\"\\nTop\", n, \"Recommended Dishes:\\n\")\n",
        "    for dish in filtered_data.iloc[top_n_indices]['Dish name']:\n",
        "        print(f\"- {dish}\")\n",
        "\n",
        "recommend_dishes(n=5)\n"
      ],
      "metadata": {
        "colab": {
          "base_uri": "https://localhost:8080/"
        },
        "id": "5UlChj3FisBk",
        "outputId": "8d244001-1b1e-4a42-8fb1-f8443f84db1b"
      },
      "execution_count": null,
      "outputs": [
        {
          "output_type": "stream",
          "name": "stdout",
          "text": [
            "Epoch 1/10\n",
            "\u001b[1m17/17\u001b[0m \u001b[32m━━━━━━━━━━━━━━━━━━━━\u001b[0m\u001b[37m\u001b[0m \u001b[1m2s\u001b[0m 21ms/step - loss: 0.2375 - mae: 0.4871 - val_loss: 0.1931 - val_mae: 0.4394\n",
            "Epoch 2/10\n",
            "\u001b[1m17/17\u001b[0m \u001b[32m━━━━━━━━━━━━━━━━━━━━\u001b[0m\u001b[37m\u001b[0m \u001b[1m0s\u001b[0m 7ms/step - loss: 0.1729 - mae: 0.4147 - val_loss: 0.1033 - val_mae: 0.3212\n",
            "Epoch 3/10\n",
            "\u001b[1m17/17\u001b[0m \u001b[32m━━━━━━━━━━━━━━━━━━━━\u001b[0m\u001b[37m\u001b[0m \u001b[1m0s\u001b[0m 6ms/step - loss: 0.0768 - mae: 0.2726 - val_loss: 0.0239 - val_mae: 0.1539\n",
            "Epoch 4/10\n",
            "\u001b[1m17/17\u001b[0m \u001b[32m━━━━━━━━━━━━━━━━━━━━\u001b[0m\u001b[37m\u001b[0m \u001b[1m0s\u001b[0m 6ms/step - loss: 0.0147 - mae: 0.1158 - val_loss: 0.0040 - val_mae: 0.0628\n",
            "Epoch 5/10\n",
            "\u001b[1m17/17\u001b[0m \u001b[32m━━━━━━━━━━━━━━━━━━━━\u001b[0m\u001b[37m\u001b[0m \u001b[1m0s\u001b[0m 6ms/step - loss: 0.0023 - mae: 0.0437 - val_loss: 0.0014 - val_mae: 0.0372\n",
            "Epoch 6/10\n",
            "\u001b[1m17/17\u001b[0m \u001b[32m━━━━━━━━━━━━━━━━━━━━\u001b[0m\u001b[37m\u001b[0m \u001b[1m0s\u001b[0m 7ms/step - loss: 0.0010 - mae: 0.0282 - val_loss: 8.5503e-04 - val_mae: 0.0286\n",
            "Epoch 7/10\n",
            "\u001b[1m17/17\u001b[0m \u001b[32m━━━━━━━━━━━━━━━━━━━━\u001b[0m\u001b[37m\u001b[0m \u001b[1m0s\u001b[0m 6ms/step - loss: 6.7331e-04 - mae: 0.0223 - val_loss: 6.0816e-04 - val_mae: 0.0240\n",
            "Epoch 8/10\n",
            "\u001b[1m17/17\u001b[0m \u001b[32m━━━━━━━━━━━━━━━━━━━━\u001b[0m\u001b[37m\u001b[0m \u001b[1m0s\u001b[0m 6ms/step - loss: 5.4175e-04 - mae: 0.0200 - val_loss: 4.5054e-04 - val_mae: 0.0206\n",
            "Epoch 9/10\n",
            "\u001b[1m17/17\u001b[0m \u001b[32m━━━━━━━━━━━━━━━━━━━━\u001b[0m\u001b[37m\u001b[0m \u001b[1m0s\u001b[0m 7ms/step - loss: 3.0157e-04 - mae: 0.0147 - val_loss: 3.5326e-04 - val_mae: 0.0182\n",
            "Epoch 10/10\n",
            "\u001b[1m17/17\u001b[0m \u001b[32m━━━━━━━━━━━━━━━━━━━━\u001b[0m\u001b[37m\u001b[0m \u001b[1m0s\u001b[0m 6ms/step - loss: 2.4829e-04 - mae: 0.0134 - val_loss: 2.8264e-04 - val_mae: 0.0163\n",
            "\u001b[1m1/1\u001b[0m \u001b[32m━━━━━━━━━━━━━━━━━━━━\u001b[0m\u001b[37m\u001b[0m \u001b[1m0s\u001b[0m 93ms/step\n",
            "\n",
            "Top 5 Recommended Dishes:\n",
            "\n",
            "- sweet and sour pork\n",
            "- sweet and sour pork\n",
            "- mapo tofu\n"
          ]
        }
      ]
    }
  ]
}