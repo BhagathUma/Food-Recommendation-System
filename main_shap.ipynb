{
 "cells": [
  {
   "cell_type": "code",
   "execution_count": 23,
   "metadata": {},
   "outputs": [],
   "source": [
    "import tensorflow as tf\n",
    "from tensorflow.keras.models import Model\n",
    "from tensorflow.keras.layers import Input, Embedding, Flatten, Dense, Concatenate, Dropout\n",
    "from sklearn.model_selection import train_test_split\n",
    "import numpy as np\n",
    "import pandas as pd\n",
    "import tkinter as tk\n",
    "from tkinter import ttk"
   ]
  },
  {
   "cell_type": "code",
   "execution_count": 24,
   "metadata": {},
   "outputs": [],
   "source": [
    "food_data = pd.read_csv(\"C:\\\\Users\\\\mithu\\\\Desktop\\\\VIT Projects\\\\III year\\\\XAI\\\\Food-Recommendation-System-main\\\\food-dataset-extended-2.csv\", encoding=\"utf-8\")"
   ]
  },
  {
   "cell_type": "code",
   "execution_count": 25,
   "metadata": {},
   "outputs": [
    {
     "name": "stdout",
     "output_type": "stream",
     "text": [
      "Epoch 1/10\n",
      "17/17 [==============================] - 1s 13ms/step - loss: 0.0267 - mae: 0.1334 - val_loss: 0.0227 - val_mae: 0.1222\n",
      "Epoch 2/10\n",
      "17/17 [==============================] - 0s 4ms/step - loss: 0.0248 - mae: 0.1271 - val_loss: 0.0218 - val_mae: 0.1190\n",
      "Epoch 3/10\n",
      "17/17 [==============================] - 0s 4ms/step - loss: 0.0236 - mae: 0.1216 - val_loss: 0.0219 - val_mae: 0.1190\n",
      "Epoch 4/10\n",
      "17/17 [==============================] - 0s 3ms/step - loss: 0.0230 - mae: 0.1182 - val_loss: 0.0221 - val_mae: 0.1196\n",
      "Epoch 5/10\n",
      "17/17 [==============================] - 0s 4ms/step - loss: 0.0211 - mae: 0.1113 - val_loss: 0.0226 - val_mae: 0.1210\n",
      "Epoch 6/10\n",
      "17/17 [==============================] - 0s 3ms/step - loss: 0.0180 - mae: 0.0969 - val_loss: 0.0240 - val_mae: 0.1253\n",
      "Epoch 7/10\n",
      "17/17 [==============================] - 0s 3ms/step - loss: 0.0123 - mae: 0.0763 - val_loss: 0.0271 - val_mae: 0.1348\n",
      "Epoch 8/10\n",
      "17/17 [==============================] - 0s 3ms/step - loss: 0.0082 - mae: 0.0667 - val_loss: 0.0300 - val_mae: 0.1423\n",
      "Epoch 9/10\n",
      "17/17 [==============================] - 0s 8ms/step - loss: 0.0063 - mae: 0.0587 - val_loss: 0.0309 - val_mae: 0.1441\n",
      "Epoch 10/10\n",
      "17/17 [==============================] - 0s 5ms/step - loss: 0.0054 - mae: 0.0524 - val_loss: 0.0321 - val_mae: 0.1479\n"
     ]
    },
    {
     "data": {
      "text/plain": [
       "<keras.src.callbacks.History at 0x1db5ba3c890>"
      ]
     },
     "execution_count": 25,
     "metadata": {},
     "output_type": "execute_result"
    }
   ],
   "source": [
    "rating_columns = [\"spice level\", \"sweet level\", \"sour level\", \"salt level\", \"bitter level\"]\n",
    "food_data[rating_columns] = food_data[rating_columns] / 10.0\n",
    "\n",
    "ratings = food_data[rating_columns].mean(axis=1).values\n",
    "dishes = np.arange(len(food_data)) \n",
    "\n",
    "X_train, X_test, y_train, y_test = train_test_split(dishes, ratings, test_size=0.2, random_state=42)\n",
    "\n",
    "dish_input = Input(shape=(1,), name=\"dish_input\")\n",
    "dish_embedding = Embedding(input_dim=len(food_data), output_dim=16, name=\"dish_embedding\")(dish_input)\n",
    "dish_embedding = Flatten()(dish_embedding)\n",
    "\n",
    "x = Dense(64, activation='relu')(dish_embedding)\n",
    "x = Dropout(0.2)(x)\n",
    "x = Dense(32, activation='relu')(x)\n",
    "x = Dropout(0.2)(x)\n",
    "x = Dense(16, activation='relu')(x)\n",
    "\n",
    "output = Dense(1, activation='sigmoid', name=\"output_layer\")(x)\n",
    "\n",
    "ncf_model = Model(inputs=dish_input, outputs=output)\n",
    "ncf_model.compile(optimizer='adam', loss='mse', metrics=['mae'])\n",
    "ncf_model.fit(X_train, y_train, epochs=10, batch_size=16, validation_data=(X_test, y_test))"
   ]
  },
  {
   "cell_type": "code",
   "execution_count": null,
   "metadata": {},
   "outputs": [
    {
     "name": "stdout",
     "output_type": "stream",
     "text": [
      "2/2 [==============================] - 0s 4ms/step\n"
     ]
    },
    {
     "name": "stderr",
     "output_type": "stream",
     "text": [
      "  0%|          | 0/10 [00:00<?, ?it/s]"
     ]
    },
    {
     "name": "stdout",
     "output_type": "stream",
     "text": [
      "1/1 [==============================] - 0s 23ms/step\n",
      "1/1 [==============================] - 0s 21ms/step\n"
     ]
    },
    {
     "name": "stderr",
     "output_type": "stream",
     "text": [
      " 20%|██        | 2/10 [00:00<00:00, 13.54it/s]"
     ]
    },
    {
     "name": "stdout",
     "output_type": "stream",
     "text": [
      "1/1 [==============================] - 0s 21ms/step\n",
      "1/1 [==============================] - 0s 28ms/step\n"
     ]
    },
    {
     "name": "stderr",
     "output_type": "stream",
     "text": [
      " 40%|████      | 4/10 [00:00<00:00, 12.30it/s]"
     ]
    },
    {
     "name": "stdout",
     "output_type": "stream",
     "text": [
      "1/1 [==============================] - 0s 99ms/step\n",
      "1/1 [==============================] - 0s 23ms/step\n"
     ]
    },
    {
     "name": "stderr",
     "output_type": "stream",
     "text": [
      " 60%|██████    | 6/10 [00:00<00:00,  9.87it/s]"
     ]
    },
    {
     "name": "stdout",
     "output_type": "stream",
     "text": [
      "1/1 [==============================] - 0s 26ms/step\n",
      "1/1 [==============================] - 0s 19ms/step\n"
     ]
    },
    {
     "name": "stderr",
     "output_type": "stream",
     "text": [
      " 80%|████████  | 8/10 [00:00<00:00, 11.29it/s]"
     ]
    },
    {
     "name": "stdout",
     "output_type": "stream",
     "text": [
      "1/1 [==============================] - 0s 20ms/step\n",
      "1/1 [==============================] - 0s 21ms/step\n"
     ]
    },
    {
     "name": "stderr",
     "output_type": "stream",
     "text": [
      "100%|██████████| 10/10 [00:00<00:00, 11.93it/s]\n"
     ]
    },
    {
     "data": {
      "image/png": "[encoded data removed]",
      "text/plain": [
       "<Figure size 800x190 with 1 Axes>"
      ]
     },
     "metadata": {},
     "output_type": "display_data"
    }
   ],
   "source": [
    "import shap\n",
    "def model_predict(dish_indices):\n",
    "    return ncf_model.predict(dish_indices).flatten()\n",
    "\n",
    "explainer = shap.KernelExplainer(model_predict, np.expand_dims(X_train[:50], axis=1))\n",
    "\n",
    "shap_values = explainer.shap_values(np.expand_dims(X_test[:10], axis=1))\n",
    "shap.summary_plot(shap_values, X_test[:10])\n",
    "\n",
    "\n",
    "\n"
   ]
  },
  {
   "cell_type": "code",
   "execution_count": 28,
   "metadata": {},
   "outputs": [],
   "source": [
    "def recommend_dishes():\n",
    "    cuisine = cuisine_var.get().strip().lower()\n",
    "    taste = taste_var.get().strip().lower()\n",
    "    temperature = temperature_var.get().strip().lower()\n",
    "    spice_level = spice_var.get()\n",
    "    sweet_level = sweet_var.get()\n",
    "    salt_level = salt_var.get()\n",
    "    sour_level = sour_var.get()\n",
    "    bitter_level = bitter_var.get()\n",
    "    \n",
    "    if not cuisine and not taste and not temperature and spice_level == 0 and sweet_level == 0 and salt_level == 0 and sour_level == 0 and bitter_level == 0:\n",
    "        result_label.config(text=\"Please provide at least one preference for better recommendations!\")\n",
    "        return\n",
    "\n",
    "    user_prefs = {\n",
    "        \"cuisine\": cuisine,\n",
    "        \"taste\": taste,\n",
    "        \"temperature\": temperature,\n",
    "        \"ratings\": np.array([spice_level, sweet_level, salt_level, sour_level, bitter_level]).mean() / 10.0\n",
    "    }\n",
    "    \n",
    "    filtered_data = food_data[\n",
    "        (food_data['Cuisine'].str.lower() == user_prefs['cuisine']) &\n",
    "        (food_data['taste'].str.lower() == user_prefs['taste']) &\n",
    "        (food_data['temperature'].str.lower() == user_prefs['temperature'])\n",
    "    ]\n",
    "\n",
    "    if filtered_data.empty:\n",
    "        result_label.config(text=\"No exact matches found. Showing top-rated dishes instead.\")\n",
    "        filtered_data = food_data\n",
    "\n",
    "    dish_indices = np.arange(len(filtered_data))\n",
    "    predicted_scores = ncf_model.predict(dish_indices)\n",
    "    top_n_indices = np.argsort(predicted_scores.flatten())[::-1][:5]\n",
    "\n",
    "    recommended_dishes = []\n",
    "    \n",
    "    for idx in top_n_indices:\n",
    "        dish_name = filtered_data.iloc[idx]['Dish name']\n",
    "        dish_cuisine = filtered_data.iloc[idx]['Cuisine']\n",
    "        dish_taste = filtered_data.iloc[idx]['taste']\n",
    "        dish_temperature = filtered_data.iloc[idx]['temperature']\n",
    "\n",
    "        explanation = f\"{dish_name} was recommended because it matches your preference for {dish_cuisine} cuisine with a {dish_taste} taste and served {dish_temperature}.\"\n",
    "        recommended_dishes.append(explanation)\n",
    "\n",
    "    result_label.config(text=\"Top 5 Recommended Dishes:\\n\" + \"\\n\\n\".join(recommended_dishes))\n"
   ]
  },
  {
   "cell_type": "code",
   "execution_count": null,
   "metadata": {},
   "outputs": [
    {
     "name": "stdout",
     "output_type": "stream",
     "text": [
      "2/2 [==============================] - 0s 3ms/step\n"
     ]
    }
   ],
   "source": [
    "\n",
    "\n",
    "root = tk.Tk()\n",
    "root.title(\"Food Recommendation System\")\n",
    "\n",
    "cuisine_var = tk.StringVar()\n",
    "taste_var = tk.StringVar()\n",
    "temperature_var = tk.StringVar()\n",
    "spice_var = tk.IntVar()\n",
    "sweet_var = tk.IntVar()\n",
    "salt_var = tk.IntVar()\n",
    "sour_var = tk.IntVar()\n",
    "bitter_var = tk.IntVar()\n",
    "\n",
    "cuisines = [\"Indian\", \"Chinese\", \"American\"]\n",
    "tastes = [\"Sweet\", \"Sour\", \"Bitter\",\"Spicy\"]\n",
    "temperatures = [\"Hot\", \"Cold\"]\n",
    "\n",
    "tk.Label(root, text=\"Cuisine:\").pack()\n",
    "ttk.Combobox(root, textvariable=cuisine_var, values=cuisines).pack()\n",
    "\n",
    "tk.Label(root, text=\"Taste:\").pack()\n",
    "ttk.Combobox(root, textvariable=taste_var, values=tastes).pack()\n",
    "\n",
    "tk.Label(root, text=\"Temperature:\").pack()\n",
    "ttk.Combobox(root, textvariable=temperature_var, values=temperatures).pack()\n",
    "\n",
    "tk.Label(root, text=\"Spice Level (0-10):\").pack()\n",
    "tk.Scale(root, from_=0, to=10, orient=tk.HORIZONTAL, variable=spice_var).pack()\n",
    "\n",
    "tk.Label(root, text=\"Sweet Level (0-10):\").pack()\n",
    "tk.Scale(root, from_=0, to=10, orient=tk.HORIZONTAL, variable=sweet_var).pack()\n",
    "\n",
    "tk.Label(root, text=\"Salt Level (0-10):\").pack()\n",
    "tk.Scale(root, from_=0, to=10, orient=tk.HORIZONTAL, variable=salt_var).pack()\n",
    "\n",
    "tk.Label(root, text=\"Sour Level (0-10):\").pack()\n",
    "tk.Scale(root, from_=0, to=10, orient=tk.HORIZONTAL, variable=sour_var).pack()\n",
    "\n",
    "tk.Label(root, text=\"Bitter Level (0-10):\").pack()\n",
    "tk.Scale(root, from_=0, to=10, orient=tk.HORIZONTAL, variable=bitter_var).pack()\n",
    "\n",
    "tk.Button(root, text=\"Get Recommendations\", command=recommend_dishes).pack()\n",
    "\n",
    "result_label = tk.Label(root, text=\"\")\n",
    "result_label.pack()\n",
    "root.geometry(\"500x600\") \n",
    "root.mainloop()\n"
   ]
  }
 ],
 "metadata": {
  "kernelspec": {
   "display_name": "Python 3",
   "language": "python",
   "name": "python3"
  },
  "language_info": {
   "codemirror_mode": {
    "name": "ipython",
    "version": 3
   },
   "file_extension": ".py",
   "mimetype": "text/x-python",
   "name": "python",
   "nbconvert_exporter": "python",
   "pygments_lexer": "ipython3",
   "version": "3.11.5"
  }
 },
 "nbformat": 4,
 "nbformat_minor": 2
}
